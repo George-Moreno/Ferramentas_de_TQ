{
 "cells": [
  {
   "cell_type": "markdown",
   "id": "244ffe9b-6af6-4aef-a29c-ef2ddda1b1ff",
   "metadata": {},
   "source": [
    "# Usando python para resolver problemas de quântica\n",
    "\n",
    "O objetivo deste notebook é oferecer uma visão geral de como podemos usar programação para resolver problemas de quântica de forma mais precisa e rápida do que usando lápis e papel, tornando o processo de aprendizagem mais dinâmico e agradável, além de acostumar o leitor à forma de trabalho que efetivamente é adotada por pesquisadores, afinal o processo de solução manual de problemas é propenso a erros, ao passo que a solução automatizada, através do uso de pacotes e bbibliotecas bem estabelecidas, é mais robusto e confiável (desde de que devidamente testado, claro). É importante ressaltar que este arquivo não objetiva introduzir a forma mais eficiente ou adequada de resolver os problemas, o que buscamos aqui é uma forma intuitiva de resolvê-los usando apenas o pacote ```numpy```.\n",
    "\n",
    "Inicamos importando o pacote ```numpy```, o qual, para nosso conforto, rerrotulamos como ```np```:"
   ]
  },
  {
   "cell_type": "code",
   "execution_count": 5,
   "id": "7ed1b4d5-a5c6-4a9e-9f91-89bfb917ac3d",
   "metadata": {},
   "outputs": [],
   "source": [
    "import numpy as np\n",
    "# este pacote pode ser intalado com o comando: pip install numpy "
   ]
  },
  {
   "cell_type": "markdown",
   "id": "a859b581-e271-440f-86d4-e12b1b31ee82",
   "metadata": {},
   "source": [
    "O termo ```np``` agora será um _alias_ para ```numpy```, ou seja, sempre que o interprete vai substituir o em seu vocabulário a palavra ```numpy``` pela palavra ```np```, a primeira perdendo seu significado.\n",
    "\n",
    "O pacote ```numpy``` introduz um objeto, gerado através do comando ```numpy.array()``` (ou, considerando o nosso alias, ```np.array()```), que possui as mesmas caracteristicas de uma matriz. Isso, somado ao fato de que python possui um suporte nato para numeros complexos, faz com que a abordagem apresentada aqui seja bastante amigável à solução dos problemas que costumamos ver nos cursos introdutórios (e avançados também!) de quântica.\n",
    "\n",
    "Ademais, o ```numpy``` também inclui uma grande quantidade de ferramentas matemáticas que tornam nossa vida bastante fácil.\n",
    "\n",
    "Vamos usar o fato de que estados quanticos puros admitem uma representação matricial na forma de um vetor e, consequentemente que os operadores lineares que atuam nestes vetores podem ser representados como matrizes para começar a explorar essa ferramenta. Inicialmente, nosso foco será um único sistema cujo espaço de estados possui dimensão 2, ou seja, um __qubit__.\n",
    "\n",
    "Considere o operador $S_z$ e os estados $|0\\rangle$ e $|1\\rangle$ tais que:\n",
    "  $$\\begin{align}S_z|0\\rangle & = |0\\rangle\\\\ S_z|1\\rangle & = -|1\\rangle\\end{align}$$\n",
    "Vamos definir,\n",
    "$$|0\\rangle =\\begin{bmatrix}1 \\\\ 0\\end{bmatrix}\\;\\;\\;\\;\\;\\;\\;\\;\\;\\;|1\\rangle =\\begin{bmatrix}0 \\\\ 1\\end{bmatrix}$$\n",
    "e logo, temos que:\n",
    "$$S_z = \\begin{bmatrix}1 & 0\\\\ 0 & -1\\end{bmatrix}$$\n",
    "\n",
    "Através do ```numpy```, podemos representar esses estados e operador da seguinte forma:"
   ]
  },
  {
   "cell_type": "code",
   "execution_count": 14,
   "id": "1cc7c7d4-429e-482e-9134-f9a2ca9834ef",
   "metadata": {},
   "outputs": [],
   "source": [
    "ket_0 = np.array([[1],[0]])\n",
    "ket_1 = np.array([[0],[1]])\n",
    "\n",
    "sz = np.array([[1,0],[0,-1]])"
   ]
  },
  {
   "cell_type": "markdown",
   "id": "67df5d43-19b9-423f-8929-8078792ecf4c",
   "metadata": {},
   "source": [
    "Vamos visualizar as variáveis acima para verificar que estão de acordo com o esperado:"
   ]
  },
  {
   "cell_type": "code",
   "execution_count": 17,
   "id": "c52d2d5f-45b6-46af-9d94-244663cfd1e3",
   "metadata": {},
   "outputs": [
    {
     "name": "stdout",
     "output_type": "stream",
     "text": [
      "[[1]\n",
      " [0]]\n",
      "[[0]\n",
      " [1]]\n",
      "[[ 1  0]\n",
      " [ 0 -1]]\n"
     ]
    }
   ],
   "source": [
    "print(ket_0)\n",
    "print(ket_1)\n",
    "print(sz)"
   ]
  },
  {
   "cell_type": "markdown",
   "id": "84294c77-0500-400d-9058-d7b62e255dc3",
   "metadata": {},
   "source": [
    "A partir disso, podemos representar outros estados, como por exemplo os auto-estados do operador $S_x$,\n",
    "$$\\begin{align}|+_x\\rangle & = \\frac{1}{\\sqrt{2}}(|0\\rangle + |1\\rangle)\\\\ |-_x\\rangle & = \\frac{1}{\\sqrt{2}}(|0\\rangle - |1\\rangle)\\end{align}$$\n",
    "que ficarão da seguinte forma:"
   ]
  },
  {
   "cell_type": "code",
   "execution_count": 19,
   "id": "20ce0f90-71e8-40cf-b91a-23766c50dd59",
   "metadata": {},
   "outputs": [],
   "source": [
    "plus_x = (ket_0 + ket_1)/np.sqrt(2)\n",
    "minus_x = (ket_0 - ket_1)/np.sqrt(2)"
   ]
  },
  {
   "cell_type": "markdown",
   "id": "1bf938fe-236e-44cb-8b16-3048649f4487",
   "metadata": {},
   "source": [
    "Novamente, vamos visualizar o resultado acima:"
   ]
  },
  {
   "cell_type": "code",
   "execution_count": 21,
   "id": "9da7a53a-e170-490b-a4a4-213492c72050",
   "metadata": {},
   "outputs": [
    {
     "name": "stdout",
     "output_type": "stream",
     "text": [
      "[[0.70710678]\n",
      " [0.70710678]]\n",
      "[[ 0.70710678]\n",
      " [-0.70710678]]\n"
     ]
    }
   ],
   "source": [
    "print(plus_x)\n",
    "print(minus_x)"
   ]
  },
  {
   "cell_type": "markdown",
   "id": "12bf89ea-e394-419d-acb6-48a994ddfe0d",
   "metadata": {},
   "source": [
    "Uma operação fundamental em quântica é o conjugado do transposto de um estado ou operador. De fato, essa operação que normalmente representamos através do simbolo $\\dagger$, conecta o estado (_ket_) com seu dual (_bra_), de um modo geral:\n",
    "$$\\langle \\psi| = |\\psi\\rangle^{\\dagger}$$\n",
    "\n",
    "Para lidar com esse caso, podemos definir uma função:"
   ]
  },
  {
   "cell_type": "code",
   "execution_count": 37,
   "id": "e15f3e3a-373e-4715-83d0-963471540366",
   "metadata": {},
   "outputs": [],
   "source": [
    "def dagger(A):\n",
    "    \"\"\"Essa função aceita um ndarray e retorna o conjugado do transposto.\n",
    "    ATENÇÃO!!! Certifique-se que o input tem dimensão 2, caso \n",
    "    contrário a operação de transposição não vai funcionar.\"\"\"\n",
    "    return np.transpose(np.conjugate(A))"
   ]
  },
  {
   "cell_type": "markdown",
   "id": "b4a0a1a8-6a3b-4c56-91cd-37b1be4e6990",
   "metadata": {},
   "source": [
    "Em posse dessa operação podemos, por exemplo, usar a decomposição espectral para escrever o operador $S_x$ em termos dos seus auto estados definidos anteriormente. Nesse caso, temos que:\n",
    "$$S_x = |+_x\\rangle\\langle +_x| - |-_x\\rangle\\langle -_x|$$"
   ]
  },
  {
   "cell_type": "markdown",
   "id": "542e45db-ef10-40ab-a997-bf6679b52c4f",
   "metadata": {},
   "source": [
    "Usando a função que definimos acima, definimos $S_x$ fica:"
   ]
  },
  {
   "cell_type": "code",
   "execution_count": 48,
   "id": "a9cc79ad-006d-483b-ac1f-b04d2e0bf1c1",
   "metadata": {},
   "outputs": [],
   "source": [
    "sx = np.matmul(plus_x,dagger(plus_x)) - np.matmul(minus_x,dagger(minus_x))"
   ]
  },
  {
   "cell_type": "markdown",
   "id": "d9b6171a-bba1-487c-a5fa-cbcd4993a0a0",
   "metadata": {},
   "source": [
    "Vamos vizualizar o resultado:"
   ]
  },
  {
   "cell_type": "code",
   "execution_count": 47,
   "id": "d196c411-4b41-4445-9c39-02267882c767",
   "metadata": {},
   "outputs": [
    {
     "name": "stdout",
     "output_type": "stream",
     "text": [
      "[[0. 1.]\n",
      " [1. 0.]]\n"
     ]
    }
   ],
   "source": [
    "print(sx)"
   ]
  },
  {
   "cell_type": "markdown",
   "id": "807da23a-b938-4d41-8898-4003e4afccb5",
   "metadata": {},
   "source": [
    "Por fim, podemos usar a função ```numpy.linalg.eig()``` para encontrar os autoestados associados com um operador uma vez que tenhamos em mãos sua representação matricial, bem como seus autovalores. Para exemplificar, vamos usar o operador $S_y$ cuja representação matricial é dada por:\n",
    "$$S_y\\begin{bmatrix}0 & -i\\\\ i & 0\\end{bmatrix}$$\n",
    "Vamos ver como essas fnções funcionam:"
   ]
  },
  {
   "cell_type": "code",
   "execution_count": 65,
   "id": "ea550e4d-1bfd-4df0-8291-4bd4e7e3f873",
   "metadata": {},
   "outputs": [
    {
     "name": "stdout",
     "output_type": "stream",
     "text": [
      "[[ 0.+0.j -0.-1.j]\n",
      " [ 0.+1.j  0.+0.j]]\n"
     ]
    }
   ],
   "source": [
    "sy = np.array([[0,-1j],[1j,0]])\n",
    "print(sy)\n",
    "results = np.linalg.eig(sy)"
   ]
  },
  {
   "cell_type": "markdown",
   "id": "cfa47163-dbed-4417-804d-aa33432d80d8",
   "metadata": {},
   "source": [
    "Vamos vizualizar esses resultados.\n",
    "\n",
    "Essa função retorna uma sequência. O primeiro objeto é um ndarray cujas entradas são os autovalores do operador que entramos como argumento da função. O segundo objeto, também um ndarray, contem uma sequência com os autoestados do operador na mesma ordem que os autovalores."
   ]
  },
  {
   "cell_type": "code",
   "execution_count": 73,
   "id": "e0c2476e-b940-43dc-8845-73b508320c4a",
   "metadata": {},
   "outputs": [
    {
     "name": "stdout",
     "output_type": "stream",
     "text": [
      "Rerultado geral:\n",
      "EigResult(eigenvalues=array([ 1.+0.j, -1.+0.j]), eigenvectors=array([[-0.        -0.70710678j,  0.70710678+0.j        ],\n",
      "       [ 0.70710678+0.j        ,  0.        -0.70710678j]]))\n",
      "\n",
      "Sequência de autovalores:\n",
      "[ 1.+0.j -1.+0.j]\n",
      "\n",
      "Sequência de autoestados:\n",
      "[[-0.        -0.70710678j  0.70710678+0.j        ]\n",
      " [ 0.70710678+0.j          0.        -0.70710678j]]\n"
     ]
    }
   ],
   "source": [
    "print(\"Rerultado geral:\")\n",
    "print(np.linalg.eig(sy))\n",
    "print(\"\\nSequência de autovalores:\")\n",
    "print(np.linalg.eig(sy)[0])\n",
    "print(\"\\nSequência de autoestados:\")\n",
    "print(np.linalg.eig(sy)[1])"
   ]
  },
  {
   "cell_type": "markdown",
   "id": "ce3baacd-5aae-4313-8c88-7550f1fbd5f5",
   "metadata": {},
   "source": [
    "## Sistemas compostos\n",
    "\n",
    "Quando trabalhamos com sistemas compostos, duas operações são cruciais:\n",
    "- Produto tensorial\n",
    "- Traço parcial\n",
    "\n",
    "Vamos abordar cada um destes pontos individualmente.\n",
    "\n",
    "### Produto tensorial\n",
    "\n",
    "Para implementar o produto tensorial, que normalmente representamos através do simbolo $\\otimes$, entre dois estados ou dois operadores, podemos recorrer a função ```numpy.kron()```.\n",
    "\n",
    "Por exemplo, podemos calcular os estados \n",
    "$$\\begin{align}|00\\rangle = |0\\rangle\\otimes|0\\rangle\\\\ |01\\rangle=|0\\rangle\\otimes|1\\rangle\\\\ |10\\rangle = |1\\rangle\\otimes|0\\rangle\\\\ |11\\rangle = |1\\rangle\\otimes|1\\rangle\\end{align}$$\n",
    "da seguinte forma,"
   ]
  },
  {
   "cell_type": "code",
   "execution_count": 80,
   "id": "fe40dd1b-2da4-493b-acc1-1b7ced5d6e03",
   "metadata": {},
   "outputs": [],
   "source": [
    "ket_00 = np.kron(ket_0,ket_0)\n",
    "ket_01 = np.kron(ket_0,ket_1)\n",
    "ket_10 = np.kron(ket_1,ket_0)\n",
    "ket_11 = np.kron(ket_1,ket_1)"
   ]
  },
  {
   "cell_type": "markdown",
   "id": "d35ff649-1ecf-471a-a74b-3d7df7bfcc6a",
   "metadata": {},
   "source": [
    "Visualizando o $|00\\rangle$, por exemplo:"
   ]
  },
  {
   "cell_type": "code",
   "execution_count": 85,
   "id": "b09f9151-8774-4d71-8e7d-caa6073146bb",
   "metadata": {},
   "outputs": [
    {
     "name": "stdout",
     "output_type": "stream",
     "text": [
      "[[1]\n",
      " [0]\n",
      " [0]\n",
      " [0]]\n"
     ]
    }
   ],
   "source": [
    "print(ket_00)"
   ]
  },
  {
   "cell_type": "markdown",
   "id": "ad72f520-3d2e-418b-b5cc-909d7eeb89bb",
   "metadata": {},
   "source": [
    "Da mesma forma, podemos calcular o produto tensorial de operadores:\n",
    "\n",
    "Exemplificamos calculando $S_z\\otimes S_x$:"
   ]
  },
  {
   "cell_type": "code",
   "execution_count": 86,
   "id": "1e6a682d-dd01-4816-988b-5e5d64b94933",
   "metadata": {},
   "outputs": [],
   "source": [
    "szosx = np.kron(sz,sx)"
   ]
  },
  {
   "cell_type": "markdown",
   "id": "5b396465-7d0d-4349-bc4b-cb72a08b3d41",
   "metadata": {},
   "source": [
    "Vamos ver o resultado:"
   ]
  },
  {
   "cell_type": "code",
   "execution_count": 87,
   "id": "2aecce67-7731-4388-995d-4b14e73ef50c",
   "metadata": {},
   "outputs": [
    {
     "name": "stdout",
     "output_type": "stream",
     "text": [
      "[[ 0.  1.  0.  0.]\n",
      " [ 1.  0.  0.  0.]\n",
      " [ 0.  0. -0. -1.]\n",
      " [ 0.  0. -1. -0.]]\n"
     ]
    }
   ],
   "source": [
    "print(szosx)"
   ]
  },
  {
   "cell_type": "markdown",
   "id": "9e1dea49-d8b5-46c2-9e7f-087e6a63a7aa",
   "metadata": {},
   "source": [
    "### Traço parcial\n",
    "\n",
    "Antes de prosseguirmos com o traço parcial, vale ressaltar que o traço total pode ser facilmente calculado através da função ```numpy.trace()```.\n",
    "\n",
    "Para ilustrar, vamos primeiro definir o operador densidade $\\rho$ associado ao autoestado do operador $S_x$ com autovalor positivo. Lembrando que:\n",
    "$$\\rho = |+_x\\rangle\\langle +_x|$$\n",
    "Temos que,"
   ]
  },
  {
   "cell_type": "code",
   "execution_count": 89,
   "id": "6662f6aa-1455-4611-a249-5dc973429a09",
   "metadata": {},
   "outputs": [
    {
     "name": "stdout",
     "output_type": "stream",
     "text": [
      "[[0.5 0.5]\n",
      " [0.5 0.5]]\n"
     ]
    }
   ],
   "source": [
    "rho = np.matmul(plus_x,dagger(plus_x))\n",
    "print(rho)"
   ]
  },
  {
   "cell_type": "markdown",
   "id": "976c9c31-d834-459c-a0fb-b594bc7b6894",
   "metadata": {},
   "source": [
    "Agora, vamos verificar o traço:"
   ]
  },
  {
   "cell_type": "code",
   "execution_count": 90,
   "id": "626d1523-7190-4b7a-a04a-4b432bec66a3",
   "metadata": {},
   "outputs": [
    {
     "name": "stdout",
     "output_type": "stream",
     "text": [
      "0.9999999999999998\n"
     ]
    }
   ],
   "source": [
    "print(np.trace(rho))"
   ]
  },
  {
   "cell_type": "markdown",
   "id": "e02d7ca6-513a-4062-8ec5-44a480766d5a",
   "metadata": {},
   "source": [
    "Como um outro exemplo, podemos calcular o traço de $S_z$:"
   ]
  },
  {
   "cell_type": "code",
   "execution_count": 91,
   "id": "b684e14f-6db4-4b69-bf47-903542007378",
   "metadata": {},
   "outputs": [
    {
     "name": "stdout",
     "output_type": "stream",
     "text": [
      "0\n"
     ]
    }
   ],
   "source": [
    "print(np.trace(sz))"
   ]
  },
  {
   "cell_type": "markdown",
   "id": "fe06993f-6243-497d-965a-a6b841e6fc40",
   "metadata": {},
   "source": [
    "# Exercício\n",
    "\n",
    "Considere o seguinte experimento.\n",
    "\n",
    "Um sistema composto por duas partes se encontra no estado $|\\psi\\rangle$, dado por\n",
    "$$|\\psi\\rangle = \\frac{1}{\\sqrt{2}}(|01\\rangle - |10\\rangle)$$\n",
    "É distribuído para dois experimentalistas, Alice e Bob que estão separados espacialmente.\n",
    "\n",
    "Alice possui dois setups experimentais para medir o seu sistema, o setup $0$ e o setup $1$. Ela escolhe que setup vai usar de acordo com o resultado de uma variável aleatória $x$ que pode assumir os valores $0$ e $1$. O setup $0$ mede o observável $S_z$, e o setup $1$ mede o observável $S_x$, obtendo o resultado $a = 0$ se o autovalor $1$ for observado e $a = 1$, se observado o autovalor $-1$.\n",
    "\n",
    "De forma análoga, Bob também possui dois setups rotulados como $0$ e $1$, e decide qual utilizar de acordo com uma variável $y$ obtendo o resultado $b$ que pode ser $0$ ou $1$ de acordo com os autovalores $1$ e $-1$ respectivamente. O setup associado à $y=0$ mede o observável $\\frac{-S_z - S_x}{\\sqrt{2}}$ e o assiciado à $y=1$ mede $\\frac{S_z - S_x}{\\sqrt{2}}$.\n",
    "\n",
    "__Primeiro passo__ Calcule os autoestados de todos os observáveis envolvidos.\n",
    "\n",
    "__Segundo passo__ Calcule os Projetores em todos os autoespaços de todos os observáveis envolvidos.\n",
    "\n",
    "__Terceiro passo__ Calcule o produto tensorial de todos os pares de projetores de Alice e Bob.\n",
    "\n",
    "__Quarto passo__ Use os resultados anteriores para calcular todos $16$ valores de $p(a,b|x,y)$.\n",
    "\n",
    "__Quinto passo__ Use o resultado do item anterior para calcular $CHSH$, sendo:\n",
    "$$CHSH = E_{00} + E_{01} + E_{10} - E_{11}$$\n",
    "na qual\n",
    "$$E_{xy} = \\sum_{a,b}(-1)^{a+b}p(a,b|x,y)$$"
   ]
  },
  {
   "cell_type": "code",
   "execution_count": null,
   "id": "984bdbf1-85ee-4292-b1ea-46e03f7b424c",
   "metadata": {},
   "outputs": [],
   "source": []
  }
 ],
 "metadata": {
  "kernelspec": {
   "display_name": "Python 3 (ipykernel)",
   "language": "python",
   "name": "python3"
  },
  "language_info": {
   "codemirror_mode": {
    "name": "ipython",
    "version": 3
   },
   "file_extension": ".py",
   "mimetype": "text/x-python",
   "name": "python",
   "nbconvert_exporter": "python",
   "pygments_lexer": "ipython3",
   "version": "3.12.0"
  }
 },
 "nbformat": 4,
 "nbformat_minor": 5
}
